{
 "cells": [
  {
   "cell_type": "code",
   "execution_count": 6,
   "outputs": [],
   "source": [
    "import pandas as pd\n",
    "import sklearn.covariance\n",
    "import sklearn.mixture\n",
    "import numpy as np\n",
    "# import sklearn."
   ],
   "metadata": {
    "collapsed": false,
    "pycharm": {
     "name": "#%%\n"
    }
   }
  },
  {
   "cell_type": "code",
   "execution_count": 11,
   "metadata": {
    "collapsed": true
   },
   "outputs": [],
   "source": [
    "\n",
    "data = pd.read_csv('heightWeightData.txt', header=None)\n",
    "data = data.to_numpy()\n",
    "\n",
    "men = data[data[:,0] == 1][:, 1:]\n",
    "women = data[data[:,0] == 2][:, 1:]\n",
    "\n",
    "# men_model = sklearn.mixture.GaussianMixture(n_components=1).fit(men)\n",
    "\n",
    "cov_men = np.cov(men.transpose())\n",
    "cov_women = np.cov(women.transpose())\n",
    "\n",
    "mean_men = np.mean(men.transpose(), axis=1)\n",
    "mean_women = np.mean(women.transpose(), axis=1)\n",
    "\n",
    "sklearn.mixture.GaussianMixture.fit()"
   ]
  }
 ],
 "metadata": {
  "kernelspec": {
   "display_name": "Python 3",
   "language": "python",
   "name": "python3"
  },
  "language_info": {
   "codemirror_mode": {
    "name": "ipython",
    "version": 2
   },
   "file_extension": ".py",
   "mimetype": "text/x-python",
   "name": "python",
   "nbconvert_exporter": "python",
   "pygments_lexer": "ipython2",
   "version": "2.7.6"
  }
 },
 "nbformat": 4,
 "nbformat_minor": 0
}