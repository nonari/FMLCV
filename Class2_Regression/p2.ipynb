{
 "cells": [
  {
   "cell_type": "code",
   "execution_count": 1,
   "metadata": {
    "collapsed": true
   },
   "outputs": [],
   "source": [
    "import numpy as np\n",
    "import matplotlib.pyplot as plt\n",
    "import sklearn.covariance\n",
    "import sklearn.mixture\n",
    "import pandas as pd\n"
   ]
  },
  {
   "cell_type": "code",
   "execution_count": 32,
   "outputs": [],
   "source": [
    "t = np.array([5,10,15,20,25,30])\n",
    "h = np.array([722, 1073, 1178,1177,781,102])\n",
    "\n",
    "X = np.c_[np.ones(6), t, np.square(t)]\n",
    "\n",
    "Xt = np.transpose(X)\n",
    "\n",
    "inv = np.linalg.inv(np.dot(Xt, X))\n",
    "tr = np.dot(inv, Xt)\n",
    "coefs = np.dot(tr, h)"
   ],
   "metadata": {
    "collapsed": false,
    "pycharm": {
     "name": "#%%\n"
    }
   }
  },
  {
   "cell_type": "code",
   "execution_count": 29,
   "outputs": [],
   "source": [
    "from sklearn.linear_model import LinearRegression as reg\n",
    "\n",
    "res = reg().fit(X, t)"
   ],
   "metadata": {
    "collapsed": false,
    "pycharm": {
     "name": "#%%\n"
    }
   }
  },
  {
   "cell_type": "code",
   "execution_count": 34,
   "outputs": [],
   "source": [
    "def RegressionWithCosts(s, y, costs=None):\n",
    "    X = np.c_[np.ones(s.shape[0]), s, np.square(s)]\n",
    "    Xt = np.transpose(X)\n",
    "    if costs is None:\n",
    "        W = np.eye(s.shape[0])\n",
    "    else:\n",
    "        W = np.diag(costs)\n",
    "\n",
    "    inv = np.linalg.inv(np.dot(np.dot(Xt, W), X))\n",
    "    coefs = np.dot(np.dot(np.dot(inv, Xt), W), y)\n",
    "    return coefs\n"
   ],
   "metadata": {
    "collapsed": false,
    "pycharm": {
     "name": "#%%\n"
    }
   }
  },
  {
   "cell_type": "code",
   "execution_count": 35,
   "outputs": [
    {
     "data": {
      "text/plain": "array([ 44.2       , 156.12428571,  -5.11      ])"
     },
     "execution_count": 35,
     "metadata": {},
     "output_type": "execute_result"
    }
   ],
   "source": [
    "RegressionWithCosts(t, h)"
   ],
   "metadata": {
    "collapsed": false,
    "pycharm": {
     "name": "#%%\n"
    }
   }
  }
 ],
 "metadata": {
  "kernelspec": {
   "display_name": "Python 3",
   "language": "python",
   "name": "python3"
  },
  "language_info": {
   "codemirror_mode": {
    "name": "ipython",
    "version": 2
   },
   "file_extension": ".py",
   "mimetype": "text/x-python",
   "name": "python",
   "nbconvert_exporter": "python",
   "pygments_lexer": "ipython2",
   "version": "2.7.6"
  }
 },
 "nbformat": 4,
 "nbformat_minor": 0
}