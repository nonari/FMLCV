{
 "cells": [
  {
   "cell_type": "code",
   "execution_count": 1,
   "metadata": {
    "collapsed": true
   },
   "outputs": [],
   "source": [
    "import numpy as np\n",
    "import matplotlib.pyplot as plt\n",
    "import sklearn.covariance\n",
    "import sklearn.mixture\n",
    "import pandas as pd\n"
   ]
  },
  {
   "cell_type": "code",
   "execution_count": 2,
   "outputs": [],
   "source": [
    "t = np.array([5,10,15,20,25,30])\n",
    "h = np.array([722, 1073, 1178,1177,781,102])\n",
    "\n",
    "X = np.c_[np.ones(6), t]\n",
    "\n",
    "Xt = np.transpose(X)\n",
    "\n",
    "inv = np.linalg.inv(np.dot(Xt, X))\n",
    "tr = np.dot(inv, Xt)\n",
    "coefs = np.dot(tr, h)"
   ],
   "metadata": {
    "collapsed": false,
    "pycharm": {
     "name": "#%%\n"
    }
   }
  },
  {
   "cell_type": "code",
   "execution_count": 3,
   "outputs": [],
   "source": [
    "from sklearn.linear_model import LinearRegression as reg\n",
    "\n",
    "res = reg().fit(X, h)"
   ],
   "metadata": {
    "collapsed": false,
    "pycharm": {
     "name": "#%%\n"
    }
   }
  },
  {
   "cell_type": "code",
   "execution_count": 4,
   "outputs": [],
   "source": [
    "def RegressionWithCosts(s, y, costs=None):\n",
    "    X = np.c_[np.ones(s.shape[0]), s]\n",
    "    Xt = np.transpose(X)\n",
    "    if costs is None:\n",
    "        W = np.eye(s.shape[0])\n",
    "    else:\n",
    "        W = np.diag(costs)\n",
    "\n",
    "    inv = np.linalg.inv(np.dot(np.dot(Xt, W), X))\n",
    "    coefs = np.dot(np.dot(np.dot(inv, Xt), W), y)\n",
    "    return coefs\n"
   ],
   "metadata": {
    "collapsed": false,
    "pycharm": {
     "name": "#%%\n"
    }
   }
  },
  {
   "cell_type": "code",
   "execution_count": 5,
   "outputs": [
    {
     "data": {
      "text/plain": "array([1236.53333333,  -22.72571429])"
     },
     "execution_count": 5,
     "metadata": {},
     "output_type": "execute_result"
    }
   ],
   "source": [
    "RegressionWithCosts(t, h)"
   ],
   "metadata": {
    "collapsed": false,
    "pycharm": {
     "name": "#%%\n"
    }
   }
  },
  {
   "cell_type": "code",
   "execution_count": 6,
   "outputs": [
    {
     "data": {
      "text/plain": "array([4.81940907])"
     },
     "execution_count": 6,
     "metadata": {},
     "output_type": "execute_result"
    }
   ],
   "source": [
    "x1 = np.array([0,1,1.9,2])\n",
    "y1 = np.array([0.1,1.9,4.1,5])\n",
    "c1 = RegressionWithCosts(x1, y1)\n",
    "res1 = reg().fit(x1.reshape(-1,1), y1)\n",
    "x2 = np.array([2,3.1,4,5])\n",
    "y2 = np.array([5,5.9,7,8.5])\n",
    "res2 = reg().fit(x2.reshape(-1,1), y2)\n",
    "res1.predict(np.array([2]).reshape(-1,1))\n",
    "res2.predict(np.array([2]).reshape(-1,1))\n",
    "# RegressionWithCosts(x2, y2)"
   ],
   "metadata": {
    "collapsed": false,
    "pycharm": {
     "name": "#%%\n"
    }
   }
  },
  {
   "cell_type": "code",
   "execution_count": 7,
   "outputs": [
    {
     "data": {
      "text/plain": "<Figure size 432x288 with 1 Axes>",
      "image/png": "[encoded data removed]"
     },
     "metadata": {
      "needs_background": "light"
     },
     "output_type": "display_data"
    }
   ],
   "source": [
    "x = [0,1,1.9,2,3.1,4,5]\n",
    "y = [0.1,1.9,4.1,5,5.9,7,8.5]\n",
    "\n",
    "x01 = [0,1,1.9,2,0,0  ,0,0]\n",
    "x02 = [0,0,0,  0,2,3.1,4,5]\n",
    "y00 = [0.1,1.9,4.1,5,5,5.9,7,8.5]\n",
    "\n",
    "x00 = np.c_[x01, x02]\n",
    "res = reg().fit(x00, y00)\n",
    "\n",
    "f = np.linspace(0,8,100)\n",
    "v = np.linspace(0,8,100)\n",
    "x = np.linspace(0,8,50)\n",
    "f[::2]=0\n",
    "v[1::2]=0\n",
    "dd1=res.predict(f.reshape((-1,2)))\n",
    "dd2=res.predict(v.reshape((-1,2)))\n",
    "plt.scatter(x, dd1)\n",
    "plt.scatter(x, dd2)\n",
    "plt.show()"
   ],
   "metadata": {
    "collapsed": false,
    "pycharm": {
     "name": "#%%\n"
    }
   }
  },
  {
   "cell_type": "code",
   "execution_count": 8,
   "outputs": [
    {
     "data": {
      "text/plain": "<Figure size 432x288 with 1 Axes>",
      "image/png": "[encoded data removed]"
     },
     "metadata": {
      "needs_background": "light"
     },
     "output_type": "display_data"
    }
   ],
   "source": [
    "x = np.array([0,1,1.9,2,3.1,4,5])\n",
    "y = np.array([0.1,1.9,4.1,5,5.9,7,8.5])\n",
    "x00 = np.c_[x, x**2]\n",
    "res = reg().fit(x00, y)\n",
    "vl = np.linspace(0,8,100)\n",
    "vf = vl ** 2\n",
    "v = np.c_[vl, vf]\n",
    "dd = res.predict(v)\n",
    "plt.scatter(vl, dd)\n",
    "plt.scatter(x, y)\n",
    "plt.show()"
   ],
   "metadata": {
    "collapsed": false,
    "pycharm": {
     "name": "#%%\n"
    }
   }
  },
  {
   "cell_type": "code",
   "execution_count": 9,
   "outputs": [
    {
     "data": {
      "text/plain": "array([ 41.645682  , 158.09096045,  -5.13819209])"
     },
     "execution_count": 9,
     "metadata": {},
     "output_type": "execute_result"
    }
   ],
   "source": [
    "x3 = np.array([5,10,15,20,25, 30])\n",
    "y3 = [732, 1083, 1188, 1187, 791, 112]\n",
    "costs3 = [1,1,1,2,1.5,0.5]\n",
    "x_o = np.c_[x3, x3**2]\n",
    "\n",
    "RegressionWithCosts(x_o, y3, costs3)"
   ],
   "metadata": {
    "collapsed": false,
    "pycharm": {
     "name": "#%%\n"
    }
   }
  }
 ],
 "metadata": {
  "kernelspec": {
   "display_name": "Python 3",
   "language": "python",
   "name": "python3"
  },
  "language_info": {
   "codemirror_mode": {
    "name": "ipython",
    "version": 2
   },
   "file_extension": ".py",
   "mimetype": "text/x-python",
   "name": "python",
   "nbconvert_exporter": "python",
   "pygments_lexer": "ipython2",
   "version": "2.7.6"
  }
 },
 "nbformat": 4,
 "nbformat_minor": 0
}