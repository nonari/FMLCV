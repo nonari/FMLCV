{
 "cells": [
  {
   "cell_type": "code",
   "execution_count": 1,
   "metadata": {
    "collapsed": true
   },
   "outputs": [],
   "source": [
    "import numpy as np\n",
    "import matplotlib.pyplot as plt\n",
    "import sklearn.covariance\n",
    "import sklearn.mixture\n",
    "import pandas as pd\n"
   ]
  },
  {
   "cell_type": "code",
   "execution_count": 6,
   "outputs": [],
   "source": [
    "t = np.array([5,10,15,20,25,30])\n",
    "h = np.array([722, 1073, 1178,1177,781,102])\n",
    "\n",
    "X = np.c_[np.ones(6), t]\n",
    "\n",
    "Xt = np.transpose(X)\n",
    "\n",
    "inv = np.linalg.inv(np.dot(Xt, X))\n",
    "tr = np.dot(inv, Xt)\n",
    "coefs = np.dot(tr, h)"
   ],
   "metadata": {
    "collapsed": false,
    "pycharm": {
     "name": "#%%\n"
    }
   }
  },
  {
   "cell_type": "code",
   "execution_count": 7,
   "outputs": [],
   "source": [
    "from sklearn.linear_model import LinearRegression as reg\n",
    "\n",
    "res = reg().fit(X, h)"
   ],
   "metadata": {
    "collapsed": false,
    "pycharm": {
     "name": "#%%\n"
    }
   }
  },
  {
   "cell_type": "code",
   "execution_count": 17,
   "outputs": [],
   "source": [
    "def RegressionWithCosts(s, y, costs=None):\n",
    "    X = np.c_[np.ones(s.shape[0]), s]\n",
    "    Xt = np.transpose(X)\n",
    "    if costs is None:\n",
    "        W = np.eye(s.shape[0])\n",
    "    else:\n",
    "        W = np.diag(costs)\n",
    "\n",
    "    inv = np.linalg.inv(np.dot(np.dot(Xt, W), X))\n",
    "    coefs = np.dot(np.dot(np.dot(inv, Xt), W), y)\n",
    "    return coefs\n"
   ],
   "metadata": {
    "collapsed": false,
    "pycharm": {
     "name": "#%%\n"
    }
   }
  },
  {
   "cell_type": "code",
   "execution_count": 9,
   "outputs": [
    {
     "data": {
      "text/plain": "array([1236.53333333,  -22.72571429])"
     },
     "execution_count": 9,
     "metadata": {},
     "output_type": "execute_result"
    }
   ],
   "source": [
    "RegressionWithCosts(t, h)"
   ],
   "metadata": {
    "collapsed": false,
    "pycharm": {
     "name": "#%%\n"
    }
   }
  },
  {
   "cell_type": "code",
   "execution_count": 10,
   "outputs": [
    {
     "data": {
      "text/plain": "array([2.48420785, 1.16760061])"
     },
     "execution_count": 10,
     "metadata": {},
     "output_type": "execute_result"
    }
   ],
   "source": [
    "x1 = np.array([0,1,1.9,2])\n",
    "y1 = np.array([0.1,1.9,4.1,5])\n",
    "c1 = RegressionWithCosts(x1, y1)\n",
    "\n",
    "x2 = np.array([2,3.1,4,5])\n",
    "y2 = np.array([5,5.9,7,8.5])\n",
    "RegressionWithCosts(x2, y2)"
   ],
   "metadata": {
    "collapsed": false,
    "pycharm": {
     "name": "#%%\n"
    }
   }
  },
  {
   "cell_type": "code",
   "execution_count": 12,
   "outputs": [
    {
     "data": {
      "text/plain": "<Figure size 432x288 with 1 Axes>",
      "image/png": "[encoded data removed]"
     },
     "metadata": {
      "needs_background": "light"
     },
     "output_type": "display_data"
    }
   ],
   "source": [
    "x = [0,1,1.9,2,3.1,4,5]\n",
    "y = [0.1,1.9,4.1,5,5.9,7,8.5]\n",
    "plt.scatter(x, y)\n",
    "plt.show()"
   ],
   "metadata": {
    "collapsed": false,
    "pycharm": {
     "name": "#%%\n"
    }
   }
  },
  {
   "cell_type": "code",
   "execution_count": 24,
   "outputs": [
    {
     "data": {
      "text/plain": "array([ 41.645682  , 158.09096045,  -5.13819209])"
     },
     "execution_count": 24,
     "metadata": {},
     "output_type": "execute_result"
    }
   ],
   "source": [
    "x3 = np.array([5,10,15,20,25, 30])\n",
    "y3 = [732, 1083, 1188, 1187, 791, 112]\n",
    "costs3 = [1,1,1,2,1.5,0.5]\n",
    "x_o = np.c_[x3, x3**2]\n",
    "\n",
    "RegressionWithCosts(x_o, y3, costs3)"
   ],
   "metadata": {
    "collapsed": false,
    "pycharm": {
     "name": "#%%\n"
    }
   }
  }
 ],
 "metadata": {
  "kernelspec": {
   "display_name": "Python 3",
   "language": "python",
   "name": "python3"
  },
  "language_info": {
   "codemirror_mode": {
    "name": "ipython",
    "version": 2
   },
   "file_extension": ".py",
   "mimetype": "text/x-python",
   "name": "python",
   "nbconvert_exporter": "python",
   "pygments_lexer": "ipython2",
   "version": "2.7.6"
  }
 },
 "nbformat": 4,
 "nbformat_minor": 0
}